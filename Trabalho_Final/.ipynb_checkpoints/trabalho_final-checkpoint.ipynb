{
 "cells": [
  {
   "cell_type": "code",
   "execution_count": 4,
   "id": "2633324a",
   "metadata": {
    "scrolled": true
   },
   "outputs": [
    {
     "name": "stdout",
     "output_type": "stream",
     "text": [
      "<class 'pandas.core.frame.DataFrame'>\n",
      "RangeIndex: 500 entries, 0 to 499\n",
      "Columns: 2001 entries, Estado to Unnamed: 2000\n",
      "dtypes: int64(1), object(2000)\n",
      "memory usage: 7.6+ MB\n",
      "None\n"
     ]
    }
   ],
   "source": [
    "import numpy as np\n",
    "import csv\n",
    "import matplotlib.pyplot as plt\n",
    "import pandas as pd\n",
    "\n",
    "#Constantes\n",
    "E0 = 0\n",
    "E1 = 1\n",
    "E2 = 2\n",
    "\n",
    "CORRENTE = 0\n",
    "TENSAO = 1\n",
    "\n",
    "#quero ler os dados na forma dados[E0][nro_teste][corrente ou tensao]\n",
    "\n",
    "dados = pd.read_excel('/home/torradeira-pinguim/Documentos/Inteligencia Artificial - Rafael Stubs Parpinelli/Implementacoes-IA/Trabalho_Final/docs/MotorUniversal_2k_5kHz_SemNorm.xlsx')\n",
    "print(dados.info())"
   ]
  },
  {
   "cell_type": "code",
   "execution_count": null,
   "id": "519440e4",
   "metadata": {},
   "outputs": [],
   "source": []
  }
 ],
 "metadata": {
  "kernelspec": {
   "display_name": "Python 3 (ipykernel)",
   "language": "python",
   "name": "python3"
  },
  "language_info": {
   "codemirror_mode": {
    "name": "ipython",
    "version": 3
   },
   "file_extension": ".py",
   "mimetype": "text/x-python",
   "name": "python",
   "nbconvert_exporter": "python",
   "pygments_lexer": "ipython3",
   "version": "3.10.6"
  }
 },
 "nbformat": 4,
 "nbformat_minor": 5
}

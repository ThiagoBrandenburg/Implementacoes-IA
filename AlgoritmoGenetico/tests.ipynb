{
 "cells": [
  {
   "cell_type": "code",
   "execution_count": 1,
   "metadata": {},
   "outputs": [],
   "source": [
    "from scripts.ambiente import Ambiente\n",
    "from scripts.leitor import Leitor\n",
    "from scripts.problems import Nrainhas, AlgebricFunction, FabricaDeRadios\n",
    "import seaborn as sns\n",
    "import matplotlib.pyplot as plt\n",
    "\n",
    "%load_ext autoreload\n",
    "%autoreload 2"
   ]
  },
  {
   "cell_type": "markdown",
   "metadata": {},
   "source": [
    "    NRAINHAS"
   ]
  },
  {
   "cell_type": "code",
   "execution_count": 50,
   "metadata": {},
   "outputs": [],
   "source": [
    "config = Leitor().loadConfig('data/data_nrainhas8.txt')\n",
    "problem = Nrainhas()"
   ]
  },
  {
   "cell_type": "markdown",
   "metadata": {},
   "source": [
    "    FUNÇÃO"
   ]
  },
  {
   "cell_type": "code",
   "execution_count": 8,
   "metadata": {},
   "outputs": [],
   "source": [
    "config = Leitor().loadConfig('data/data_algebric.txt')\n",
    "problem = AlgebricFunction(config)"
   ]
  },
  {
   "cell_type": "markdown",
   "metadata": {},
   "source": [
    "    RADIO"
   ]
  },
  {
   "cell_type": "code",
   "execution_count": 12,
   "metadata": {},
   "outputs": [],
   "source": [
    "config = Leitor().loadConfig('data/data_fabrica_de_radios.txt')\n",
    "problem = FabricaDeRadios()"
   ]
  },
  {
   "cell_type": "code",
   "execution_count": 18,
   "metadata": {},
   "outputs": [
    {
     "data": {
      "text/plain": [
       "[0.47901386978301536,\n",
       " 0.4696308822714782,\n",
       " 0.5193737136813017,\n",
       " 0.5276604320628179,\n",
       " 0.605009960074679,\n",
       " 0.7078503871842959,\n",
       " 0.701715123116718,\n",
       " 0.6570940999938946,\n",
       " 0.694878870168195,\n",
       " 0.6681413393196113]"
      ]
     },
     "execution_count": 18,
     "metadata": {},
     "output_type": "execute_result"
    }
   ],
   "source": [
    "ambiente.results_mean"
   ]
  },
  {
   "cell_type": "code",
   "execution_count": 13,
   "metadata": {},
   "outputs": [
    {
     "name": "stdout",
     "output_type": "stream",
     "text": [
      "Loop()\n",
      "[array([16,  4]), array([10,  8]), array([17,  8]), array([10,  8]), array([ 3, 12]), array([16,  4]), array([ 3, 12]), array([14, 12]), array([16,  4]), array([16,  4]), array([7, 6]), array([7, 6]), array([ 3, 12]), array([17,  8])]\n",
      "Elite eval: [0.6617647058823529]\n",
      "Loop()\n",
      "[array([10,  8]), array([16,  4]), array([14, 12]), array([14, 12]), array([ 3, 12]), array([16,  4]), array([ 3, 12]), array([7, 6]), array([16,  4]), array([14, 12]), array([16,  4]), array([ 3, 12]), array([10,  8]), array([14, 12])]\n",
      "Elite eval: [0.6617647058823529]\n",
      "Loop()\n",
      "[array([14, 12]), array([ 3, 12]), array([16,  4]), array([14, 12]), array([14, 12]), array([14, 12]), array([14, 12]), array([16,  4]), array([16,  4]), array([14, 12]), array([14, 12]), array([16,  4]), array([14, 12]), array([16,  4])]\n",
      "Elite eval: [0.6617647058823529]\n",
      "Loop()\n",
      "[array([14, 12]), array([14, 12]), array([14, 12]), array([14, 12]), array([14, 12]), array([16,  4]), array([16,  4]), array([14, 12]), array([16,  4]), array([16,  4]), array([14, 12]), array([16,  4]), array([14, 12]), array([14, 12])]\n",
      "Elite eval: [0.6617647058823529]\n",
      "Loop()\n",
      "[array([14, 12]), array([16,  4]), array([14, 12]), array([14, 12]), array([14, 12]), array([14, 12]), array([14, 12]), array([14, 12]), array([14, 12]), array([14, 12]), array([14, 12]), array([14, 12]), array([14, 12]), array([16,  4])]\n",
      "Elite eval: [0.6617647058823529]\n",
      "Loop()\n",
      "[array([14, 12]), array([14, 12]), array([16,  4]), array([14, 12]), array([14, 12]), array([14, 12]), array([14, 12]), array([14, 12]), array([14, 12]), array([14, 12]), array([14, 12]), array([14, 12]), array([14, 12]), array([14, 12])]\n",
      "Elite eval: [0.6617647058823529]\n",
      "Loop()\n",
      "[array([14, 12]), array([14, 12]), array([14, 12]), array([14, 12]), array([14, 12]), array([14, 12]), array([14, 12]), array([14, 12]), array([14, 12]), array([14, 12]), array([14, 12]), array([14, 12]), array([14, 12]), array([14, 12])]\n",
      "Elite eval: [0.6617647058823529]\n",
      "Loop()\n",
      "[array([14, 12]), array([14, 12]), array([14, 12]), array([14, 12]), array([14, 12]), array([14, 12]), array([14, 12]), array([14, 12]), array([14, 12]), array([14, 12]), array([14, 12]), array([14, 12]), array([14, 12]), array([14, 12])]\n",
      "Elite eval: [0.6617647058823529]\n",
      "Loop()\n",
      "[array([14, 12]), array([14, 12]), array([14, 12]), array([14, 12]), array([14, 12]), array([14, 12]), array([14, 12]), array([14, 12]), array([14, 12]), array([14, 12]), array([14, 12]), array([14, 12]), array([14, 12]), array([14, 12])]\n",
      "Elite eval: [0.6617647058823529]\n",
      "Loop()\n",
      "[array([14, 12]), array([14, 12]), array([14, 12]), array([14, 12]), array([14, 12]), array([14, 12]), array([14, 12]), array([14, 12]), array([14, 12]), array([14, 12]), array([14, 12]), array([14, 12]), array([14, 12]), array([14, 12])]\n",
      "Elite eval: [0.6617647058823529]\n",
      "Loop()\n",
      "[array([14, 12]), array([14, 12]), array([14, 12]), array([14, 12]), array([14, 12]), array([14, 12]), array([14, 12]), array([14, 12]), array([14, 12]), array([14, 12]), array([14, 12]), array([14, 12]), array([14, 12]), array([14, 12])]\n",
      "Elite eval: [0.6617647058823529]\n",
      "Loop()\n",
      "[array([14, 12]), array([14, 12]), array([14, 12]), array([14, 12]), array([14, 12]), array([14, 12]), array([14, 12]), array([14, 12]), array([14, 12]), array([14, 12]), array([14, 12]), array([14, 12]), array([14, 12]), array([14, 12])]\n",
      "Elite eval: [0.6617647058823529]\n",
      "Loop()\n",
      "[array([14, 12]), array([14, 12]), array([14, 12]), array([14, 12]), array([14, 12]), array([14, 12]), array([14, 12]), array([14, 12]), array([14, 12]), array([14, 12]), array([14, 12]), array([14, 12]), array([14, 12]), array([14, 12])]\n",
      "Elite eval: [0.6617647058823529]\n",
      "Loop()\n",
      "[array([14, 12]), array([14, 12]), array([14, 12]), array([14, 12]), array([14, 12]), array([14, 12]), array([14, 12]), array([14, 12]), array([14, 12]), array([14, 12]), array([14, 12]), array([14, 12]), array([14, 12]), array([14, 12])]\n",
      "Elite eval: [0.6617647058823529]\n",
      "Loop()\n",
      "[array([14, 12]), array([14, 12]), array([14, 12]), array([14, 12]), array([14, 12]), array([14, 12]), array([14, 12]), array([14, 12]), array([14, 12]), array([14, 12]), array([14, 12]), array([14, 12]), array([14, 12]), array([14, 12])]\n",
      "Elite eval: [0.6617647058823529]\n",
      "Loop()\n",
      "[array([14, 12]), array([14, 12]), array([14, 12]), array([14, 12]), array([14, 12]), array([14, 12]), array([14, 12]), array([14, 12]), array([14, 12]), array([14, 12]), array([14, 12]), array([14, 12]), array([14, 12]), array([14, 12])]\n",
      "Elite eval: [0.6617647058823529]\n",
      "Loop()\n",
      "[array([14, 12]), array([14, 12]), array([14, 12]), array([14, 12]), array([14, 12]), array([14, 12]), array([14, 12]), array([14, 12]), array([14, 12]), array([14, 12]), array([14, 12]), array([14, 12]), array([14, 12]), array([14, 12])]\n",
      "Elite eval: [0.6617647058823529]\n",
      "Loop()\n",
      "[array([14, 12]), array([14, 12]), array([14, 12]), array([14, 12]), array([14, 12]), array([14, 12]), array([14, 12]), array([14, 12]), array([14, 12]), array([14, 12]), array([14, 12]), array([14, 12]), array([14, 12]), array([14, 12])]\n",
      "Elite eval: [0.6617647058823529]\n",
      "Loop()\n",
      "[array([14, 12]), array([14, 12]), array([14, 12]), array([14, 12]), array([14, 12]), array([14, 12]), array([14, 12]), array([14, 12]), array([14, 12]), array([14, 12]), array([14, 12]), array([14, 12]), array([14, 12]), array([14, 12])]\n",
      "Elite eval: [0.6617647058823529]\n",
      "Loop()\n",
      "[array([14, 12]), array([14, 12]), array([14, 12]), array([14, 12]), array([14, 12]), array([14, 12]), array([14, 12]), array([14, 12]), array([14, 12]), array([14, 12]), array([14, 12]), array([14, 12]), array([14, 12]), array([14, 12])]\n",
      "Elite eval: [0.6617647058823529]\n",
      "Loop()\n",
      "[array([14, 12]), array([14, 12]), array([14, 12]), array([14, 12]), array([14, 12]), array([14, 12]), array([14, 12]), array([14, 12]), array([14, 12]), array([14, 12]), array([14, 12]), array([14, 12]), array([14, 12]), array([14, 12])]\n",
      "Elite eval: [0.6617647058823529]\n",
      "Loop()\n",
      "[array([14, 12]), array([14, 12]), array([14, 12]), array([14, 12]), array([14, 12]), array([14, 12]), array([14, 12]), array([14, 12]), array([14, 12]), array([14, 12]), array([14, 12]), array([14, 12]), array([14, 12]), array([14, 12])]\n",
      "Elite eval: [0.6617647058823529]\n",
      "Loop()\n",
      "[array([14, 12]), array([14, 12]), array([14, 12]), array([14, 12]), array([14, 12]), array([14, 12]), array([14, 12]), array([14, 12]), array([14, 12]), array([14, 12]), array([14, 12]), array([14, 12]), array([14, 12]), array([14, 12])]\n",
      "Elite eval: [0.6617647058823529]\n",
      "Loop()\n",
      "[array([14, 12]), array([14, 12]), array([14, 12]), array([14, 12]), array([14, 12]), array([14, 12]), array([14, 12]), array([14, 12]), array([14, 12]), array([14, 12]), array([14, 12]), array([14, 12]), array([14, 12]), array([14, 12])]\n",
      "Elite eval: [0.6617647058823529]\n",
      "Loop()\n",
      "[array([14, 12]), array([14, 12]), array([14, 12]), array([14, 12]), array([14, 12]), array([14, 12]), array([14, 12]), array([14, 12]), array([14, 12]), array([14, 12]), array([14, 12]), array([14, 12]), array([14, 12]), array([14, 12])]\n",
      "Elite eval: [0.6617647058823529]\n",
      "Loop()\n",
      "[array([14, 12]), array([14, 12]), array([14, 12]), array([14, 12]), array([14, 12]), array([14, 12]), array([14, 12]), array([14, 12]), array([14, 12]), array([14, 12]), array([14, 12]), array([14, 12]), array([14, 12]), array([14, 12])]\n",
      "Elite eval: [0.6617647058823529]\n",
      "Loop()\n",
      "[array([14, 12]), array([14, 12]), array([14, 12]), array([14, 12]), array([14, 12]), array([14, 12]), array([14, 12]), array([14, 12]), array([14, 12]), array([14, 12]), array([14, 12]), array([14, 12]), array([14, 12]), array([14, 12])]\n",
      "Elite eval: [0.6617647058823529]\n",
      "Loop()\n",
      "[array([14, 12]), array([14, 12]), array([14, 12]), array([14, 12]), array([14, 12]), array([14, 12]), array([14, 12]), array([14, 12]), array([14, 12]), array([14, 12]), array([14, 12]), array([14, 12]), array([14, 12]), array([14, 12])]\n",
      "Elite eval: [0.6617647058823529]\n",
      "Loop()\n",
      "[array([14, 12]), array([14, 12]), array([14, 12]), array([14, 12]), array([14, 12]), array([14, 12]), array([14, 12]), array([14, 12]), array([14, 12]), array([14, 12]), array([14, 12]), array([14, 12]), array([14, 12]), array([14, 12])]\n",
      "Elite eval: [0.6617647058823529]\n",
      "Loop()\n",
      "[array([14, 12]), array([14, 12]), array([14, 12]), array([14, 12]), array([14, 12]), array([14, 12]), array([14, 12]), array([14, 12]), array([14, 12]), array([14, 12]), array([14, 12]), array([14, 12]), array([14, 12]), array([14, 12])]\n",
      "Elite eval: [0.6617647058823529]\n",
      "Loop()\n",
      "[array([14, 12]), array([14, 12]), array([14, 12]), array([14, 12]), array([14, 12]), array([14, 12]), array([14, 12]), array([14, 12]), array([14, 12]), array([14, 12]), array([14, 12]), array([14, 12]), array([14, 12]), array([14, 12])]\n",
      "Elite eval: [0.6617647058823529]\n",
      "Loop()\n",
      "[array([14, 12]), array([14, 12]), array([14, 12]), array([14, 12]), array([14, 12]), array([14, 12]), array([14, 12]), array([14, 12]), array([14, 12]), array([14, 12]), array([14, 12]), array([14, 12]), array([14, 12]), array([14, 12])]\n",
      "Elite eval: [0.6617647058823529]\n",
      "Loop()\n",
      "[array([14, 12]), array([14, 12]), array([14, 12]), array([14, 12]), array([14, 12]), array([14, 12]), array([14, 12]), array([14, 12]), array([14, 12]), array([14, 12]), array([14, 12]), array([14, 12]), array([14, 12]), array([14, 12])]\n",
      "Elite eval: [0.6617647058823529]\n",
      "Loop()\n",
      "[array([14, 12]), array([14, 12]), array([14, 12]), array([14, 12]), array([14, 12]), array([14, 12]), array([14, 12]), array([14, 12]), array([14, 12]), array([14, 12]), array([14, 12]), array([14, 12]), array([14, 12]), array([14, 12])]\n",
      "Elite eval: [0.6617647058823529]\n",
      "Loop()\n",
      "[array([14, 12]), array([14, 12]), array([14, 12]), array([14, 12]), array([14, 12]), array([14, 12]), array([14, 12]), array([14, 12]), array([14, 12]), array([14, 12]), array([14, 12]), array([14, 12]), array([14, 12]), array([14, 12])]\n",
      "Elite eval: [0.6617647058823529]\n",
      "Loop()\n",
      "[array([14, 12]), array([14, 12]), array([14, 12]), array([14, 12]), array([14, 12]), array([14, 12]), array([14, 12]), array([14, 12]), array([14, 12]), array([14, 12]), array([14, 12]), array([14, 12]), array([14, 12]), array([14, 12])]\n",
      "Elite eval: [0.6617647058823529]\n",
      "Loop()\n",
      "[array([14, 12]), array([14, 12]), array([14, 12]), array([14, 12]), array([14, 12]), array([14, 12]), array([14, 12]), array([14, 12]), array([14, 12]), array([14, 12]), array([14, 12]), array([14, 12]), array([14, 12]), array([14, 12])]\n",
      "Elite eval: [0.6617647058823529]\n",
      "Loop()\n",
      "[array([14, 12]), array([14, 12]), array([14, 12]), array([14, 12]), array([14, 12]), array([14, 12]), array([14, 12]), array([14, 12]), array([14, 12]), array([14, 12]), array([14, 12]), array([14, 12]), array([14, 12]), array([14, 12])]\n",
      "Elite eval: [0.6617647058823529]\n",
      "Loop()\n",
      "[array([14, 12]), array([14, 12]), array([14, 12]), array([14, 12]), array([14, 12]), array([14, 12]), array([14, 12]), array([14, 12]), array([14, 12]), array([14, 12]), array([14, 12]), array([14, 12]), array([14, 12]), array([14, 12])]\n",
      "Elite eval: [0.6617647058823529]\n",
      "Loop()\n",
      "[array([14, 12]), array([14, 12]), array([14, 12]), array([14, 12]), array([14, 12]), array([14, 12]), array([14, 12]), array([14, 12]), array([14, 12]), array([14, 12]), array([14, 12]), array([14, 12]), array([14, 12]), array([14, 12])]\n",
      "Elite eval: [0.6617647058823529]\n",
      "Loop()\n",
      "[array([14, 12]), array([14, 12]), array([14, 12]), array([14, 12]), array([14, 12]), array([14, 12]), array([14, 12]), array([14, 12]), array([14, 12]), array([14, 12]), array([14, 12]), array([14, 12]), array([14, 12]), array([14, 12])]\n",
      "Elite eval: [0.6617647058823529]\n",
      "Loop()\n",
      "[array([14, 12]), array([14, 12]), array([14, 12]), array([14, 12]), array([14, 12]), array([14, 12]), array([14, 12]), array([14, 12]), array([14, 12]), array([14, 12]), array([14, 12]), array([14, 12]), array([14, 12]), array([14, 12])]\n",
      "Elite eval: [0.6617647058823529]\n",
      "Loop()\n",
      "[array([14, 12]), array([14, 12]), array([14, 12]), array([14, 12]), array([14, 12]), array([14, 12]), array([14, 12]), array([14, 12]), array([14, 12]), array([14, 12]), array([14, 12]), array([14, 12]), array([14, 12]), array([14, 12])]\n",
      "Elite eval: [0.6617647058823529]\n",
      "Loop()\n",
      "[array([14, 12]), array([14, 12]), array([14, 12]), array([14, 12]), array([14, 12]), array([14, 12]), array([14, 12]), array([14, 12]), array([14, 12]), array([14, 12]), array([14, 12]), array([14, 12]), array([14, 12]), array([14, 12])]\n",
      "Elite eval: [0.6617647058823529]\n",
      "Loop()\n",
      "[array([14, 12]), array([14, 12]), array([14, 12]), array([14, 12]), array([14, 12]), array([14, 12]), array([14, 12]), array([14, 12]), array([14, 12]), array([14, 12]), array([14, 12]), array([14, 12]), array([14, 12]), array([14, 12])]\n",
      "Elite eval: [0.6617647058823529]\n",
      "Loop()\n",
      "[array([14, 12]), array([14, 12]), array([14, 12]), array([14, 12]), array([14, 12]), array([14, 12]), array([14, 12]), array([14, 12]), array([14, 12]), array([14, 12]), array([14, 12]), array([14, 12]), array([14, 12]), array([14, 12])]\n",
      "Elite eval: [0.6617647058823529]\n",
      "Loop()\n",
      "[array([14, 12]), array([14, 12]), array([14, 12]), array([14, 12]), array([14, 12]), array([14, 12]), array([14, 12]), array([14, 12]), array([14, 12]), array([14, 12]), array([14, 12]), array([14, 12]), array([14, 12]), array([14, 12])]\n",
      "Elite eval: [0.6617647058823529]\n",
      "Loop()\n",
      "[array([14, 12]), array([14, 12]), array([14, 12]), array([14, 12]), array([14, 12]), array([14, 12]), array([14, 12]), array([14, 12]), array([14, 12]), array([14, 12]), array([14, 12]), array([14, 12]), array([14, 12]), array([14, 12])]\n",
      "Elite eval: [0.6617647058823529]\n",
      "Loop()\n",
      "[array([14, 12]), array([14, 12]), array([14, 12]), array([14, 12]), array([14, 12]), array([14, 12]), array([14, 12]), array([14, 12]), array([14, 12]), array([14, 12]), array([14, 12]), array([14, 12]), array([14, 12]), array([14, 12])]\n",
      "Elite eval: [0.6617647058823529]\n",
      "Loop()\n",
      "[array([14, 12]), array([14, 12]), array([14, 12]), array([14, 12]), array([14, 12]), array([14, 12]), array([14, 12]), array([14, 12]), array([14, 12]), array([14, 12]), array([14, 12]), array([14, 12]), array([14, 12]), array([14, 12])]\n",
      "Elite eval: [0.6617647058823529]\n",
      "Loop()\n",
      "[array([14, 12]), array([14, 12]), array([14, 12]), array([14, 12]), array([14, 12]), array([14, 12]), array([14, 12]), array([14, 12]), array([14, 12]), array([14, 12]), array([14, 12]), array([14, 12]), array([14, 12]), array([14, 12])]\n",
      "Elite eval: [0.6617647058823529]\n",
      "Loop()\n",
      "[array([14, 12]), array([14, 12]), array([14, 12]), array([14, 12]), array([14, 12]), array([14, 12]), array([14, 12]), array([14, 12]), array([14, 12]), array([14, 12]), array([14, 12]), array([14, 12]), array([14, 12]), array([14, 12])]\n",
      "Elite eval: [0.6617647058823529]\n",
      "Loop()\n",
      "[array([14, 12]), array([14, 12]), array([14, 12]), array([14, 12]), array([14, 12]), array([14, 12]), array([14, 12]), array([14, 12]), array([14, 12]), array([14, 12]), array([14, 12]), array([14, 12]), array([14, 12]), array([14, 12])]\n",
      "Elite eval: [0.6617647058823529]\n",
      "Loop()\n",
      "[array([14, 12]), array([14, 12]), array([14, 12]), array([14, 12]), array([14, 12]), array([14, 12]), array([14, 12]), array([14, 12]), array([14, 12]), array([14, 12]), array([14, 12]), array([14, 12]), array([14, 12]), array([14, 12])]\n",
      "Elite eval: [0.6617647058823529]\n",
      "Loop()\n",
      "[array([14, 12]), array([14, 12]), array([14, 12]), array([14, 12]), array([14, 12]), array([14, 12]), array([14, 12]), array([14, 12]), array([14, 12]), array([14, 12]), array([14, 12]), array([14, 12]), array([14, 12]), array([14, 12])]\n",
      "Elite eval: [0.6617647058823529]\n",
      "Loop()\n",
      "[array([14, 12]), array([14, 12]), array([14, 12]), array([14, 12]), array([14, 12]), array([14, 12]), array([14, 12]), array([14, 12]), array([14, 12]), array([14, 12]), array([14, 12]), array([14, 12]), array([14, 12]), array([14, 12])]\n",
      "Elite eval: [0.6617647058823529]\n",
      "Loop()\n",
      "[array([14, 12]), array([14, 12]), array([14, 12]), array([14, 12]), array([14, 12]), array([14, 12]), array([14, 12]), array([14, 12]), array([14, 12]), array([14, 12]), array([14, 12]), array([14, 12]), array([14, 12]), array([14, 12])]\n",
      "Elite eval: [0.6617647058823529]\n",
      "Loop()\n",
      "[array([14, 12]), array([14, 12]), array([14, 12]), array([14, 12]), array([14, 12]), array([14, 12]), array([14, 12]), array([14, 12]), array([14, 12]), array([14, 12]), array([14, 12]), array([14, 12]), array([14, 12]), array([14, 12])]\n",
      "Elite eval: [0.6617647058823529]\n",
      "Loop()\n",
      "[array([14, 12]), array([14, 12]), array([14, 12]), array([14, 12]), array([14, 12]), array([14, 12]), array([14, 12]), array([14, 12]), array([14, 12]), array([14, 12]), array([14, 12]), array([14, 12]), array([14, 12]), array([14, 12])]\n",
      "Elite eval: [0.6617647058823529]\n",
      "Loop()\n",
      "[array([14, 12]), array([14, 12]), array([14, 12]), array([14, 12]), array([14, 12]), array([14, 12]), array([14, 12]), array([14, 12]), array([14, 12]), array([14, 12]), array([14, 12]), array([14, 12]), array([14, 12]), array([14, 12])]\n",
      "Elite eval: [0.6617647058823529]\n",
      "Loop()\n",
      "[array([14, 12]), array([14, 12]), array([14, 12]), array([14, 12]), array([14, 12]), array([14, 12]), array([14, 12]), array([14, 12]), array([14, 12]), array([14, 12]), array([14, 12]), array([14, 12]), array([14, 12]), array([14, 12])]\n",
      "Elite eval: [0.6617647058823529]\n",
      "Loop()\n",
      "[array([14, 12]), array([14, 12]), array([14, 12]), array([14, 12]), array([14, 12]), array([14, 12]), array([14, 12]), array([14, 12]), array([14, 12]), array([14, 12]), array([14, 12]), array([14, 12]), array([14, 12]), array([14, 12])]\n",
      "Elite eval: [0.6617647058823529]\n",
      "Loop()\n",
      "[array([14, 12]), array([14, 12]), array([14, 12]), array([14, 12]), array([14, 12]), array([14, 12]), array([14, 12]), array([14, 12]), array([14, 12]), array([14, 12]), array([14, 12]), array([14, 12]), array([14, 12]), array([14, 12])]\n",
      "Elite eval: [0.6617647058823529]\n",
      "Loop()\n",
      "[array([14, 12]), array([14, 12]), array([14, 12]), array([14, 12]), array([14, 12]), array([14, 12]), array([14, 12]), array([14, 12]), array([14, 12]), array([14, 12]), array([14, 12]), array([14, 12]), array([14, 12]), array([14, 12])]\n",
      "Elite eval: [0.6617647058823529]\n",
      "Loop()\n",
      "[array([14, 12]), array([14, 12]), array([14, 12]), array([14, 12]), array([14, 12]), array([14, 12]), array([14, 12]), array([14, 12]), array([14, 12]), array([14, 12]), array([14, 12]), array([14, 12]), array([14, 12]), array([14, 12])]\n",
      "Elite eval: [0.6617647058823529]\n",
      "Loop()\n",
      "[array([14, 12]), array([14, 12]), array([14, 12]), array([14, 12]), array([14, 12]), array([14, 12]), array([14, 12]), array([14, 12]), array([14, 12]), array([14, 12]), array([14, 12]), array([14, 12]), array([14, 12]), array([14, 12])]\n",
      "Elite eval: [0.6617647058823529]\n",
      "Loop()\n",
      "[array([14, 12]), array([14, 12]), array([14, 12]), array([14, 12]), array([14, 12]), array([14, 12]), array([14, 12]), array([14, 12]), array([14, 12]), array([14, 12]), array([14, 12]), array([14, 12]), array([14, 12]), array([14, 12])]\n",
      "Elite eval: [0.6617647058823529]\n",
      "Loop()\n",
      "[array([14, 12]), array([14, 12]), array([14, 12]), array([14, 12]), array([14, 12]), array([14, 12]), array([14, 12]), array([14, 12]), array([14, 12]), array([14, 12]), array([14, 12]), array([14, 12]), array([14, 12]), array([14, 12])]\n",
      "Elite eval: [0.6617647058823529]\n",
      "Loop()\n",
      "[array([14, 12]), array([14, 12]), array([14, 12]), array([14, 12]), array([14, 12]), array([14, 12]), array([14, 12]), array([14, 12]), array([14, 12]), array([14, 12]), array([14, 12]), array([14, 12]), array([14, 12]), array([14, 12])]\n",
      "Elite eval: [0.6617647058823529]\n",
      "Loop()\n",
      "[array([14, 12]), array([14, 12]), array([14, 12]), array([14, 12]), array([14, 12]), array([14, 12]), array([14, 12]), array([14, 12]), array([14, 12]), array([14, 12]), array([14, 12]), array([14, 12]), array([14, 12]), array([14, 12])]\n",
      "Elite eval: [0.6617647058823529]\n",
      "Loop()\n",
      "[array([14, 12]), array([14, 12]), array([14, 12]), array([14, 12]), array([14, 12]), array([14, 12]), array([14, 12]), array([14, 12]), array([14, 12]), array([14, 12]), array([14, 12]), array([14, 12]), array([14, 12]), array([14, 12])]\n",
      "Elite eval: [0.6617647058823529]\n",
      "Loop()\n",
      "[array([14, 12]), array([14, 12]), array([14, 12]), array([14, 12]), array([14, 12]), array([14, 12]), array([14, 12]), array([14, 12]), array([14, 12]), array([14, 12]), array([14, 12]), array([14, 12]), array([14, 12]), array([14, 12])]\n",
      "Elite eval: [0.6617647058823529]\n",
      "Loop()\n",
      "[array([14, 12]), array([14, 12]), array([14, 12]), array([14, 12]), array([14, 12]), array([14, 12]), array([14, 12]), array([14, 12]), array([14, 12]), array([14, 12]), array([14, 12]), array([14, 12]), array([14, 12]), array([14, 12])]\n",
      "Elite eval: [0.6617647058823529]\n",
      "Loop()\n",
      "[array([14, 12]), array([14, 12]), array([14, 12]), array([14, 12]), array([14, 12]), array([14, 12]), array([14, 12]), array([14, 12]), array([14, 12]), array([14, 12]), array([14, 12]), array([14, 12]), array([14, 12]), array([14, 12])]\n",
      "Elite eval: [0.6617647058823529]\n",
      "Loop()\n",
      "[array([14, 12]), array([14, 12]), array([14, 12]), array([14, 12]), array([14, 12]), array([14, 12]), array([14, 12]), array([14, 12]), array([14, 12]), array([14, 12]), array([14, 12]), array([14, 12]), array([14, 12]), array([14, 12])]\n",
      "Elite eval: [0.6617647058823529]\n",
      "Loop()\n",
      "[array([14, 12]), array([14, 12]), array([14, 12]), array([14, 12]), array([14, 12]), array([14, 12]), array([14, 12]), array([14, 12]), array([14, 12]), array([14, 12]), array([14, 12]), array([14, 12]), array([14, 12]), array([14, 12])]\n",
      "Elite eval: [0.6617647058823529]\n",
      "Loop()\n",
      "[array([14, 12]), array([14, 12]), array([14, 12]), array([14, 12]), array([14, 12]), array([14, 12]), array([14, 12]), array([14, 12]), array([14, 12]), array([14, 12]), array([14, 12]), array([14, 12]), array([14, 12]), array([14, 12])]\n",
      "Elite eval: [0.6617647058823529]\n",
      "Loop()\n",
      "[array([14, 12]), array([14, 12]), array([14, 12]), array([14, 12]), array([14, 12]), array([14, 12]), array([14, 12]), array([14, 12]), array([14, 12]), array([14, 12]), array([14, 12]), array([14, 12]), array([14, 12]), array([14, 12])]\n",
      "Elite eval: [0.6617647058823529]\n",
      "Loop()\n",
      "[array([14, 12]), array([14, 12]), array([14, 12]), array([14, 12]), array([14, 12]), array([14, 12]), array([14, 12]), array([14, 12]), array([14, 12]), array([14, 12]), array([14, 12]), array([14, 12]), array([14, 12]), array([14, 12])]\n",
      "Elite eval: [0.6617647058823529]\n",
      "Loop()\n",
      "[array([14, 12]), array([14, 12]), array([14, 12]), array([14, 12]), array([14, 12]), array([14, 12]), array([14, 12]), array([14, 12]), array([14, 12]), array([14, 12]), array([14, 12]), array([14, 12]), array([14, 12]), array([14, 12])]\n",
      "Elite eval: [0.6617647058823529]\n",
      "Loop()\n",
      "[array([14, 12]), array([14, 12]), array([14, 12]), array([14, 12]), array([14, 12]), array([14, 12]), array([14, 12]), array([14, 12]), array([14, 12]), array([14, 12]), array([14, 12]), array([14, 12]), array([14, 12]), array([14, 12])]\n",
      "Elite eval: [0.6617647058823529]\n",
      "Loop()\n",
      "[array([14, 12]), array([14, 12]), array([14, 12]), array([14, 12]), array([14, 12]), array([14, 12]), array([14, 12]), array([14, 12]), array([14, 12]), array([14, 12]), array([14, 12]), array([14, 12]), array([14, 12]), array([14, 12])]\n",
      "Elite eval: [0.6617647058823529]\n",
      "Loop()\n",
      "[array([14, 12]), array([14, 12]), array([14, 12]), array([14, 12]), array([14, 12]), array([14, 12]), array([14, 12]), array([14, 12]), array([14, 12]), array([14, 12]), array([14, 12]), array([14, 12]), array([14, 12]), array([14, 12])]\n",
      "Elite eval: [0.6617647058823529]\n",
      "Loop()\n",
      "[array([14, 12]), array([14, 12]), array([14, 12]), array([14, 12]), array([14, 12]), array([14, 12]), array([14, 12]), array([14, 12]), array([14, 12]), array([14, 12]), array([14, 12]), array([14, 12]), array([14, 12]), array([14, 12])]\n",
      "Elite eval: [0.6617647058823529]\n",
      "Loop()\n",
      "[array([14, 12]), array([14, 12]), array([14, 12]), array([14, 12]), array([14, 12]), array([14, 12]), array([14, 12]), array([14, 12]), array([14, 12]), array([14, 12]), array([14, 12]), array([14, 12]), array([14, 12]), array([14, 12])]\n",
      "Elite eval: [0.6617647058823529]\n",
      "Loop()\n",
      "[array([14, 12]), array([14, 12]), array([14, 12]), array([14, 12]), array([14, 12]), array([14, 12]), array([14, 12]), array([14, 12]), array([14, 12]), array([14, 12]), array([14, 12]), array([14, 12]), array([14, 12]), array([14, 12])]\n",
      "Elite eval: [0.6617647058823529]\n",
      "Loop()\n",
      "[array([14, 12]), array([14, 12]), array([14, 12]), array([14, 12]), array([14, 12]), array([14, 12]), array([14, 12]), array([14, 12]), array([14, 12]), array([14, 12]), array([14, 12]), array([14, 12]), array([14, 12]), array([14, 12])]\n",
      "Elite eval: [0.6617647058823529]\n",
      "Loop()\n",
      "[array([14, 12]), array([14, 12]), array([14, 12]), array([14, 12]), array([14, 12]), array([14, 12]), array([14, 12]), array([14, 12]), array([14, 12]), array([14, 12]), array([14, 12]), array([14, 12]), array([14, 12]), array([14, 12])]\n",
      "Elite eval: [0.6617647058823529]\n",
      "Loop()\n",
      "[array([14, 12]), array([14, 12]), array([14, 12]), array([14, 12]), array([14, 12]), array([14, 12]), array([14, 12]), array([14, 12]), array([14, 12]), array([14, 12]), array([14, 12]), array([14, 12]), array([14, 12]), array([14, 12])]\n",
      "Elite eval: [0.6617647058823529]\n",
      "Loop()\n",
      "[array([14, 12]), array([14, 12]), array([14, 12]), array([14, 12]), array([14, 12]), array([14, 12]), array([14, 12]), array([14, 12]), array([14, 12]), array([14, 12]), array([14, 12]), array([14, 12]), array([14, 12]), array([14, 12])]\n",
      "Elite eval: [0.6617647058823529]\n",
      "Loop()\n",
      "[array([14, 12]), array([14, 12]), array([14, 12]), array([14, 12]), array([14, 12]), array([14, 12]), array([14, 12]), array([14, 12]), array([14, 12]), array([14, 12]), array([14, 12]), array([14, 12]), array([14, 12]), array([14, 12])]\n",
      "Elite eval: [0.6617647058823529]\n",
      "Loop()\n",
      "[array([14, 12]), array([14, 12]), array([14, 12]), array([14, 12]), array([14, 12]), array([14, 12]), array([14, 12]), array([14, 12]), array([14, 12]), array([14, 12]), array([14, 12]), array([14, 12]), array([14, 12]), array([14, 12])]\n",
      "Elite eval: [0.6617647058823529]\n",
      "Loop()\n",
      "[array([14, 12]), array([14, 12]), array([14, 12]), array([14, 12]), array([14, 12]), array([14, 12]), array([14, 12]), array([14, 12]), array([14, 12]), array([14, 12]), array([14, 12]), array([14, 12]), array([14, 12]), array([14, 12])]\n",
      "Elite eval: [0.6617647058823529]\n",
      "Loop()\n",
      "[array([14, 12]), array([14, 12]), array([14, 12]), array([14, 12]), array([14, 12]), array([14, 12]), array([14, 12]), array([14, 12]), array([14, 12]), array([14, 12]), array([14, 12]), array([14, 12]), array([14, 12]), array([14, 12])]\n",
      "Elite eval: [0.6617647058823529]\n",
      "Loop()\n",
      "[array([14, 12]), array([14, 12]), array([14, 12]), array([14, 12]), array([14, 12]), array([14, 12]), array([14, 12]), array([14, 12]), array([14, 12]), array([14, 12]), array([14, 12]), array([14, 12]), array([14, 12]), array([14, 12])]\n",
      "Elite eval: [0.6617647058823529]\n",
      "Loop()\n",
      "[array([14, 12]), array([14, 12]), array([14, 12]), array([14, 12]), array([14, 12]), array([14, 12]), array([14, 12]), array([14, 12]), array([14, 12]), array([14, 12]), array([14, 12]), array([14, 12]), array([14, 12]), array([14, 12])]\n",
      "Elite eval: [0.6617647058823529]\n",
      "Loop()\n",
      "[array([14, 12]), array([14, 12]), array([14, 12]), array([14, 12]), array([14, 12]), array([14, 12]), array([14, 12]), array([14, 12]), array([14, 12]), array([14, 12]), array([14, 12]), array([14, 12]), array([14, 12]), array([14, 12])]\n",
      "Elite eval: [0.6617647058823529]\n",
      "Loop()\n",
      "[array([14, 12]), array([14, 12]), array([14, 12]), array([14, 12]), array([14, 12]), array([14, 12]), array([14, 12]), array([14, 12]), array([14, 12]), array([14, 12]), array([14, 12]), array([14, 12]), array([14, 12]), array([14, 12])]\n",
      "Elite eval: [0.6617647058823529]\n",
      "Loop()\n",
      "[array([14, 12]), array([14, 12]), array([14, 12]), array([14, 12]), array([14, 12]), array([14, 12]), array([14, 12]), array([14, 12]), array([14, 12]), array([14, 12]), array([14, 12]), array([14, 12]), array([14, 12]), array([14, 12])]\n",
      "Elite eval: [0.6617647058823529]\n",
      "Loop()\n",
      "[array([14, 12]), array([14, 12]), array([14, 12]), array([14, 12]), array([14, 12]), array([14, 12]), array([14, 12]), array([14, 12]), array([14, 12]), array([14, 12]), array([14, 12]), array([14, 12]), array([14, 12]), array([14, 12])]\n",
      "Elite eval: [0.6617647058823529]\n"
     ]
    },
    {
     "data": {
      "text/plain": [
       "[<matplotlib.lines.Line2D at 0x28d73ac3810>]"
      ]
     },
     "execution_count": 13,
     "metadata": {},
     "output_type": "execute_result"
    },
    {
     "data": {
      "image/png": "[encoded data removed]",
      "text/plain": [
       "<Figure size 640x480 with 1 Axes>"
      ]
     },
     "metadata": {},
     "output_type": "display_data"
    }
   ],
   "source": [
    "ambiente = Ambiente(config,problem=problem)\n",
    "for _ in range(100):\n",
    "    ambiente.loop()\n",
    "plt.plot(ambiente.results_best,color='Red')\n",
    "plt.plot(ambiente.results_mean,color='Blue')"
   ]
  },
  {
   "cell_type": "code",
   "execution_count": null,
   "metadata": {},
   "outputs": [],
   "source": [
    "ambiente."
   ]
  },
  {
   "cell_type": "code",
   "execution_count": 52,
   "metadata": {},
   "outputs": [
    {
     "data": {
      "text/plain": [
       "array([0.77777778, 0.88888889, 0.97222222, 0.88888889, 0.88888889,\n",
       "       0.86111111, 0.77777778, 0.91666667, 0.77777778, 0.83333333])"
      ]
     },
     "execution_count": 52,
     "metadata": {},
     "output_type": "execute_result"
    }
   ],
   "source": [
    "ambiente.evaluate()\n",
    "ambiente.evaluation"
   ]
  },
  {
   "cell_type": "code",
   "execution_count": 34,
   "metadata": {},
   "outputs": [
    {
     "data": {
      "text/plain": [
       "[array([4, 1, 7, 5, 3, 6, 0, 2])]"
      ]
     },
     "execution_count": 34,
     "metadata": {},
     "output_type": "execute_result"
    }
   ],
   "source": [
    "ambiente.save_elite()\n",
    "ambiente.elite_population"
   ]
  },
  {
   "cell_type": "code",
   "execution_count": 18,
   "metadata": {},
   "outputs": [
    {
     "data": {
      "text/plain": [
       "<Axes: >"
      ]
     },
     "execution_count": 18,
     "metadata": {},
     "output_type": "execute_result"
    },
    {
     "data": {
      "image/png": "[encoded data removed]",
      "text/plain": [
       "<Figure size 640x480 with 2 Axes>"
      ]
     },
     "metadata": {},
     "output_type": "display_data"
    }
   ],
   "source": [
    "sns.heatmap(nrainhas.get_matrix(nrainhas.decode(ambiente.elite_population[0])),cmap='gray')"
   ]
  },
  {
   "cell_type": "code",
   "execution_count": 19,
   "metadata": {},
   "outputs": [
    {
     "data": {
      "text/plain": [
       "[(0, 2), (1, 4), (2, 3), (3, 5), (4, 7), (5, 1), (6, 6), (7, 0)]"
      ]
     },
     "execution_count": 19,
     "metadata": {},
     "output_type": "execute_result"
    }
   ],
   "source": [
    "nrainhas.decode(ambiente.population[0])"
   ]
  },
  {
   "cell_type": "code",
   "execution_count": 20,
   "metadata": {},
   "outputs": [
    {
     "data": {
      "text/plain": [
       "array([2, 4, 3, 5, 7, 1, 6, 0])"
      ]
     },
     "execution_count": 20,
     "metadata": {},
     "output_type": "execute_result"
    }
   ],
   "source": [
    "nrainhas.encode(nrainhas.decode(ambiente.population[0]))"
   ]
  },
  {
   "cell_type": "code",
   "execution_count": 45,
   "metadata": {},
   "outputs": [
    {
     "name": "stdout",
     "output_type": "stream",
     "text": [
      "evaluation: [0.86111111 0.83333333 0.91666667 0.88888889 0.94444444 0.83333333\n",
      " 0.91666667 0.80555556 0.77777778 0.83333333]\n"
     ]
    },
    {
     "ename": "TypeError",
     "evalue": "'tuple' object does not support item assignment",
     "output_type": "error",
     "traceback": [
      "\u001b[1;31m---------------------------------------------------------------------------\u001b[0m",
      "\u001b[1;31mTypeError\u001b[0m                                 Traceback (most recent call last)",
      "Cell \u001b[1;32mIn[45], line 1\u001b[0m\n\u001b[1;32m----> 1\u001b[0m ambiente\u001b[39m.\u001b[39mroulette_wheel()\n",
      "File \u001b[1;32mc:\\Users\\thiag\\Documents\\UDESC\\Laboratorio\\Implementacoes\\Implementacoes-IA\\AlgoritmoGenetico\\scripts\\ambiente.py:107\u001b[0m, in \u001b[0;36mAmbiente.roulette_wheel\u001b[1;34m(self)\u001b[0m\n\u001b[0;32m    105\u001b[0m \u001b[39mdef\u001b[39;00m \u001b[39mroulette_wheel\u001b[39m(\u001b[39mself\u001b[39m):\n\u001b[0;32m    106\u001b[0m     \u001b[39mprint\u001b[39m(\u001b[39m'\u001b[39m\u001b[39mevaluation:\u001b[39m\u001b[39m'\u001b[39m,\u001b[39mself\u001b[39m\u001b[39m.\u001b[39mevaluation)\n\u001b[1;32m--> 107\u001b[0m     e0 \u001b[39m=\u001b[39m \u001b[39mself\u001b[39m\u001b[39m.\u001b[39m_p_selection(\u001b[39mself\u001b[39m\u001b[39m.\u001b[39mevaluation)\n\u001b[0;32m    108\u001b[0m     replacement \u001b[39m=\u001b[39m \u001b[39mself\u001b[39m\u001b[39m.\u001b[39mevaluation\u001b[39m.\u001b[39mcopy()\n\u001b[0;32m    109\u001b[0m     \u001b[39mprint\u001b[39m(\u001b[39m'\u001b[39m\u001b[39me0:\u001b[39m\u001b[39m'\u001b[39m,e0)\n",
      "File \u001b[1;32mc:\\Users\\thiag\\Documents\\UDESC\\Laboratorio\\Implementacoes\\Implementacoes-IA\\AlgoritmoGenetico\\scripts\\ambiente.py:97\u001b[0m, in \u001b[0;36mAmbiente._p_selection\u001b[1;34m(self, evaluation)\u001b[0m\n\u001b[0;32m     95\u001b[0m prob \u001b[39m=\u001b[39m p_selecao\u001b[39m.\u001b[39mcopy()\n\u001b[0;32m     96\u001b[0m \u001b[39mfor\u001b[39;00m i \u001b[39min\u001b[39;00m \u001b[39mrange\u001b[39m(\u001b[39m1\u001b[39m,\u001b[39mlen\u001b[39m(evaluation)):\n\u001b[1;32m---> 97\u001b[0m     prob[i][\u001b[39m1\u001b[39m] \u001b[39m=\u001b[39m prob[i][\u001b[39m1\u001b[39m] \u001b[39m+\u001b[39m p_selecao[i\u001b[39m-\u001b[39m\u001b[39m1\u001b[39m][\u001b[39m1\u001b[39m]\n\u001b[0;32m     98\u001b[0m chance \u001b[39m=\u001b[39m random\u001b[39m.\u001b[39mrandom()\n\u001b[0;32m     99\u001b[0m \u001b[39mfor\u001b[39;00m elemento \u001b[39min\u001b[39;00m prob:\n",
      "\u001b[1;31mTypeError\u001b[0m: 'tuple' object does not support item assignment"
     ]
    }
   ],
   "source": []
  }
 ],
 "metadata": {
  "kernelspec": {
   "display_name": "base",
   "language": "python",
   "name": "python3"
  },
  "language_info": {
   "codemirror_mode": {
    "name": "ipython",
    "version": 3
   },
   "file_extension": ".py",
   "mimetype": "text/x-python",
   "name": "python",
   "nbconvert_exporter": "python",
   "pygments_lexer": "ipython3",
   "version": "3.11.4"
  },
  "orig_nbformat": 4
 },
 "nbformat": 4,
 "nbformat_minor": 2
}
